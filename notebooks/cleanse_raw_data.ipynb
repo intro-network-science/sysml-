{
 "cells": [
  {
   "cell_type": "code",
   "execution_count": 1,
   "outputs": [],
   "source": [
    "import pandas as pd\n",
    "import pytz"
   ],
   "metadata": {
    "collapsed": false
   }
  },
  {
   "cell_type": "code",
   "execution_count": 2,
   "outputs": [
    {
     "name": "stderr",
     "output_type": "stream",
     "text": [
      "/tmp/ipykernel_44742/654449370.py:1: DtypeWarning: Columns (0) have mixed types. Specify dtype option on import or set low_memory=False.\n",
      "  df = pd.read_csv('../2009-01/raw_data.csv')\n"
     ]
    }
   ],
   "source": [
    "df = pd.read_csv('../2009-01/raw_data.csv')"
   ],
   "metadata": {
    "collapsed": false
   }
  },
  {
   "cell_type": "code",
   "execution_count": 3,
   "outputs": [
    {
     "data": {
      "text/plain": "  edited    id distinguished  archived  gilded  created_utc  ups  \\\n0  False  7va2          None      True       0   1230768002    1   \n1  False  7va3          None      True       0   1230768006    3   \n2  False  7va4          None      True       0   1230768007   -5   \n3  False  7va5          None      True       0   1230768012    2   \n4  False  7va6          None      True       0   1230768012    4   \n\n          author  score  downs  ...   subreddit author_flair_css_class  \\\n0         Envark      1      0  ...  reddit.com                   None   \n1          hoott      3      0  ...      gaming                   None   \n2  KiddieFiddler     -5      0  ...        pics                   None   \n3      [deleted]      2      0  ...     science                   None   \n4   bluesecurity      4      0  ...        pics                   None   \n\n  controversiality  retrieved_on  score_hidden  author_flair_text   link_id  \\\n0                0    1428222113         False               None  t3_7mq2x   \n1                0    1428222113         False               None  t3_7mmrs   \n2                0    1428222113         False               None  t3_7mmkw   \n3                0    1428222113         False               None  t3_7mngw   \n4                0    1428222113         False               None  t3_7mn0q   \n\n      name subreddit_id                                               body  \n0  t1_7va2         t5_6  Awww...I was hoping this post was about the li...  \n1  t1_7va3     t5_2qh03  I think PoP slightly fixed the Vita-Chamber pr...  \n2  t1_7va4     t5_2qh0u      **Nigger + Obama. Jailbait + bestof** etc etc  \n3  t1_7va5      t5_mouw  The Universe In Motion - exactly what it says ...  \n4  t1_7va6     t5_2qh0u  You should join the barefoot running community...  \n\n[5 rows x 21 columns]",
      "text/html": "<div>\n<style scoped>\n    .dataframe tbody tr th:only-of-type {\n        vertical-align: middle;\n    }\n\n    .dataframe tbody tr th {\n        vertical-align: top;\n    }\n\n    .dataframe thead th {\n        text-align: right;\n    }\n</style>\n<table border=\"1\" class=\"dataframe\">\n  <thead>\n    <tr style=\"text-align: right;\">\n      <th></th>\n      <th>edited</th>\n      <th>id</th>\n      <th>distinguished</th>\n      <th>archived</th>\n      <th>gilded</th>\n      <th>created_utc</th>\n      <th>ups</th>\n      <th>author</th>\n      <th>score</th>\n      <th>downs</th>\n      <th>...</th>\n      <th>subreddit</th>\n      <th>author_flair_css_class</th>\n      <th>controversiality</th>\n      <th>retrieved_on</th>\n      <th>score_hidden</th>\n      <th>author_flair_text</th>\n      <th>link_id</th>\n      <th>name</th>\n      <th>subreddit_id</th>\n      <th>body</th>\n    </tr>\n  </thead>\n  <tbody>\n    <tr>\n      <th>0</th>\n      <td>False</td>\n      <td>7va2</td>\n      <td>None</td>\n      <td>True</td>\n      <td>0</td>\n      <td>1230768002</td>\n      <td>1</td>\n      <td>Envark</td>\n      <td>1</td>\n      <td>0</td>\n      <td>...</td>\n      <td>reddit.com</td>\n      <td>None</td>\n      <td>0</td>\n      <td>1428222113</td>\n      <td>False</td>\n      <td>None</td>\n      <td>t3_7mq2x</td>\n      <td>t1_7va2</td>\n      <td>t5_6</td>\n      <td>Awww...I was hoping this post was about the li...</td>\n    </tr>\n    <tr>\n      <th>1</th>\n      <td>False</td>\n      <td>7va3</td>\n      <td>None</td>\n      <td>True</td>\n      <td>0</td>\n      <td>1230768006</td>\n      <td>3</td>\n      <td>hoott</td>\n      <td>3</td>\n      <td>0</td>\n      <td>...</td>\n      <td>gaming</td>\n      <td>None</td>\n      <td>0</td>\n      <td>1428222113</td>\n      <td>False</td>\n      <td>None</td>\n      <td>t3_7mmrs</td>\n      <td>t1_7va3</td>\n      <td>t5_2qh03</td>\n      <td>I think PoP slightly fixed the Vita-Chamber pr...</td>\n    </tr>\n    <tr>\n      <th>2</th>\n      <td>False</td>\n      <td>7va4</td>\n      <td>None</td>\n      <td>True</td>\n      <td>0</td>\n      <td>1230768007</td>\n      <td>-5</td>\n      <td>KiddieFiddler</td>\n      <td>-5</td>\n      <td>0</td>\n      <td>...</td>\n      <td>pics</td>\n      <td>None</td>\n      <td>0</td>\n      <td>1428222113</td>\n      <td>False</td>\n      <td>None</td>\n      <td>t3_7mmkw</td>\n      <td>t1_7va4</td>\n      <td>t5_2qh0u</td>\n      <td>**Nigger + Obama. Jailbait + bestof** etc etc</td>\n    </tr>\n    <tr>\n      <th>3</th>\n      <td>False</td>\n      <td>7va5</td>\n      <td>None</td>\n      <td>True</td>\n      <td>0</td>\n      <td>1230768012</td>\n      <td>2</td>\n      <td>[deleted]</td>\n      <td>2</td>\n      <td>0</td>\n      <td>...</td>\n      <td>science</td>\n      <td>None</td>\n      <td>0</td>\n      <td>1428222113</td>\n      <td>False</td>\n      <td>None</td>\n      <td>t3_7mngw</td>\n      <td>t1_7va5</td>\n      <td>t5_mouw</td>\n      <td>The Universe In Motion - exactly what it says ...</td>\n    </tr>\n    <tr>\n      <th>4</th>\n      <td>False</td>\n      <td>7va6</td>\n      <td>None</td>\n      <td>True</td>\n      <td>0</td>\n      <td>1230768012</td>\n      <td>4</td>\n      <td>bluesecurity</td>\n      <td>4</td>\n      <td>0</td>\n      <td>...</td>\n      <td>pics</td>\n      <td>None</td>\n      <td>0</td>\n      <td>1428222113</td>\n      <td>False</td>\n      <td>None</td>\n      <td>t3_7mn0q</td>\n      <td>t1_7va6</td>\n      <td>t5_2qh0u</td>\n      <td>You should join the barefoot running community...</td>\n    </tr>\n  </tbody>\n</table>\n<p>5 rows × 21 columns</p>\n</div>"
     },
     "execution_count": 3,
     "metadata": {},
     "output_type": "execute_result"
    }
   ],
   "source": [
    "df.head()"
   ],
   "metadata": {
    "collapsed": false
   }
  },
  {
   "cell_type": "code",
   "execution_count": 4,
   "outputs": [
    {
     "data": {
      "text/plain": "Index(['edited', 'id', 'distinguished', 'archived', 'gilded', 'created_utc',\n       'ups', 'author', 'score', 'downs', 'parent_id', 'subreddit',\n       'author_flair_css_class', 'controversiality', 'retrieved_on',\n       'score_hidden', 'author_flair_text', 'link_id', 'name', 'subreddit_id',\n       'body'],\n      dtype='object')"
     },
     "execution_count": 4,
     "metadata": {},
     "output_type": "execute_result"
    }
   ],
   "source": [
    "df.columns"
   ],
   "metadata": {
    "collapsed": false
   }
  },
  {
   "cell_type": "code",
   "execution_count": 5,
   "outputs": [],
   "source": [
    "selected_df = df[['created_utc', 'subreddit', 'body', 'author', 'name']]"
   ],
   "metadata": {
    "collapsed": false
   }
  },
  {
   "cell_type": "code",
   "execution_count": 6,
   "outputs": [
    {
     "data": {
      "text/plain": "    created_utc    subreddit  \\\n0    1230768002   reddit.com   \n1    1230768006       gaming   \n2    1230768007         pics   \n3    1230768012      science   \n4    1230768012         pics   \n5    1230768016          WTF   \n6    1230768021   reddit.com   \n7    1230768026   reddit.com   \n8    1230768026   technology   \n9    1230768027     politics   \n10   1230768028       gaming   \n11   1230768031    Economics   \n12   1230768038   reddit.com   \n13   1230768041    worldnews   \n14   1230768042          WTF   \n15   1230768043         pics   \n16   1230768045  programming   \n17   1230768048   reddit.com   \n18   1230768050       comics   \n19   1230768050    AskReddit   \n\n                                                 body         author     name  \n0   Awww...I was hoping this post was about the li...         Envark  t1_7va2  \n1   I think PoP slightly fixed the Vita-Chamber pr...          hoott  t1_7va3  \n2       **Nigger + Obama. Jailbait + bestof** etc etc  KiddieFiddler  t1_7va4  \n3   The Universe In Motion - exactly what it says ...      [deleted]  t1_7va5  \n4   You should join the barefoot running community...   bluesecurity  t1_7va6  \n5   &gt;I've seen a seven year-old eat a condom on...      [deleted]  t1_7va7  \n6   I would respond to you, but:  * You think you'...      [deleted]  t1_7va8  \n7   Be sure to get back to us when you have decide...       what3v3r  t1_7va9  \n8   Cool, they got flac though? That is kinda the ...    Fantasysage  t1_7vaa  \n9   This is idiotic. The kid is clearly not in any...        rhcpds7  t1_7vab  \n10  Wait, I see some raw flesh there... surely tha...   LaurieCheers  t1_7vac  \n11  [It had to happen...](http://i549.photobucket....     pastanoose  t1_7vad  \n12  &gt; soullow, hooker chemical sent the game to...         gcalpo  t1_7vae  \n13  Nothing.  \"Democracy\" is just a thin justifica...      [deleted]  t1_7vaf  \n14  By people getting tired, you mean reddit, righ...      [deleted]  t1_7vag  \n15  Since it's pedantic thread, it's not a Venn di...   toastyfries2  t1_7vah  \n16  But watching all your windows repaint, and app...         racarr  t1_7vai  \n17                                 Nope, not a troll.         Envark  t1_7vaj  \n18                        that's why we have editors.      [deleted]  t1_7vak  \n19  Dude it's totally me, Joe Rogan! You wanna eat...       ziusudra  t1_7val  ",
      "text/html": "<div>\n<style scoped>\n    .dataframe tbody tr th:only-of-type {\n        vertical-align: middle;\n    }\n\n    .dataframe tbody tr th {\n        vertical-align: top;\n    }\n\n    .dataframe thead th {\n        text-align: right;\n    }\n</style>\n<table border=\"1\" class=\"dataframe\">\n  <thead>\n    <tr style=\"text-align: right;\">\n      <th></th>\n      <th>created_utc</th>\n      <th>subreddit</th>\n      <th>body</th>\n      <th>author</th>\n      <th>name</th>\n    </tr>\n  </thead>\n  <tbody>\n    <tr>\n      <th>0</th>\n      <td>1230768002</td>\n      <td>reddit.com</td>\n      <td>Awww...I was hoping this post was about the li...</td>\n      <td>Envark</td>\n      <td>t1_7va2</td>\n    </tr>\n    <tr>\n      <th>1</th>\n      <td>1230768006</td>\n      <td>gaming</td>\n      <td>I think PoP slightly fixed the Vita-Chamber pr...</td>\n      <td>hoott</td>\n      <td>t1_7va3</td>\n    </tr>\n    <tr>\n      <th>2</th>\n      <td>1230768007</td>\n      <td>pics</td>\n      <td>**Nigger + Obama. Jailbait + bestof** etc etc</td>\n      <td>KiddieFiddler</td>\n      <td>t1_7va4</td>\n    </tr>\n    <tr>\n      <th>3</th>\n      <td>1230768012</td>\n      <td>science</td>\n      <td>The Universe In Motion - exactly what it says ...</td>\n      <td>[deleted]</td>\n      <td>t1_7va5</td>\n    </tr>\n    <tr>\n      <th>4</th>\n      <td>1230768012</td>\n      <td>pics</td>\n      <td>You should join the barefoot running community...</td>\n      <td>bluesecurity</td>\n      <td>t1_7va6</td>\n    </tr>\n    <tr>\n      <th>5</th>\n      <td>1230768016</td>\n      <td>WTF</td>\n      <td>&amp;gt;I've seen a seven year-old eat a condom on...</td>\n      <td>[deleted]</td>\n      <td>t1_7va7</td>\n    </tr>\n    <tr>\n      <th>6</th>\n      <td>1230768021</td>\n      <td>reddit.com</td>\n      <td>I would respond to you, but:  * You think you'...</td>\n      <td>[deleted]</td>\n      <td>t1_7va8</td>\n    </tr>\n    <tr>\n      <th>7</th>\n      <td>1230768026</td>\n      <td>reddit.com</td>\n      <td>Be sure to get back to us when you have decide...</td>\n      <td>what3v3r</td>\n      <td>t1_7va9</td>\n    </tr>\n    <tr>\n      <th>8</th>\n      <td>1230768026</td>\n      <td>technology</td>\n      <td>Cool, they got flac though? That is kinda the ...</td>\n      <td>Fantasysage</td>\n      <td>t1_7vaa</td>\n    </tr>\n    <tr>\n      <th>9</th>\n      <td>1230768027</td>\n      <td>politics</td>\n      <td>This is idiotic. The kid is clearly not in any...</td>\n      <td>rhcpds7</td>\n      <td>t1_7vab</td>\n    </tr>\n    <tr>\n      <th>10</th>\n      <td>1230768028</td>\n      <td>gaming</td>\n      <td>Wait, I see some raw flesh there... surely tha...</td>\n      <td>LaurieCheers</td>\n      <td>t1_7vac</td>\n    </tr>\n    <tr>\n      <th>11</th>\n      <td>1230768031</td>\n      <td>Economics</td>\n      <td>[It had to happen...](http://i549.photobucket....</td>\n      <td>pastanoose</td>\n      <td>t1_7vad</td>\n    </tr>\n    <tr>\n      <th>12</th>\n      <td>1230768038</td>\n      <td>reddit.com</td>\n      <td>&amp;gt; soullow, hooker chemical sent the game to...</td>\n      <td>gcalpo</td>\n      <td>t1_7vae</td>\n    </tr>\n    <tr>\n      <th>13</th>\n      <td>1230768041</td>\n      <td>worldnews</td>\n      <td>Nothing.  \"Democracy\" is just a thin justifica...</td>\n      <td>[deleted]</td>\n      <td>t1_7vaf</td>\n    </tr>\n    <tr>\n      <th>14</th>\n      <td>1230768042</td>\n      <td>WTF</td>\n      <td>By people getting tired, you mean reddit, righ...</td>\n      <td>[deleted]</td>\n      <td>t1_7vag</td>\n    </tr>\n    <tr>\n      <th>15</th>\n      <td>1230768043</td>\n      <td>pics</td>\n      <td>Since it's pedantic thread, it's not a Venn di...</td>\n      <td>toastyfries2</td>\n      <td>t1_7vah</td>\n    </tr>\n    <tr>\n      <th>16</th>\n      <td>1230768045</td>\n      <td>programming</td>\n      <td>But watching all your windows repaint, and app...</td>\n      <td>racarr</td>\n      <td>t1_7vai</td>\n    </tr>\n    <tr>\n      <th>17</th>\n      <td>1230768048</td>\n      <td>reddit.com</td>\n      <td>Nope, not a troll.</td>\n      <td>Envark</td>\n      <td>t1_7vaj</td>\n    </tr>\n    <tr>\n      <th>18</th>\n      <td>1230768050</td>\n      <td>comics</td>\n      <td>that's why we have editors.</td>\n      <td>[deleted]</td>\n      <td>t1_7vak</td>\n    </tr>\n    <tr>\n      <th>19</th>\n      <td>1230768050</td>\n      <td>AskReddit</td>\n      <td>Dude it's totally me, Joe Rogan! You wanna eat...</td>\n      <td>ziusudra</td>\n      <td>t1_7val</td>\n    </tr>\n  </tbody>\n</table>\n</div>"
     },
     "execution_count": 6,
     "metadata": {},
     "output_type": "execute_result"
    }
   ],
   "source": [
    "selected_df.head(n=20)"
   ],
   "metadata": {
    "collapsed": false
   }
  },
  {
   "cell_type": "code",
   "execution_count": 7,
   "outputs": [],
   "source": [
    "remove_deleted_users_df = selected_df.drop(selected_df[selected_df['author'] == '[deleted]'].index)"
   ],
   "metadata": {
    "collapsed": false
   }
  },
  {
   "cell_type": "code",
   "execution_count": 8,
   "outputs": [
    {
     "data": {
      "text/plain": "         created_utc   subreddit  \\\n0         1230768002  reddit.com   \n1         1230768006      gaming   \n2         1230768007        pics   \n4         1230768012        pics   \n7         1230768026  reddit.com   \n...              ...         ...   \n1051643   1233446394     offbeat   \n1051644   1233446396   worldnews   \n1051646   1233446397   Marijuana   \n1051647   1233446398   worldnews   \n1051648   1233446398  technology   \n\n                                                      body            author  \\\n0        Awww...I was hoping this post was about the li...            Envark   \n1        I think PoP slightly fixed the Vita-Chamber pr...             hoott   \n2            **Nigger + Obama. Jailbait + bestof** etc etc     KiddieFiddler   \n4        You should join the barefoot running community...      bluesecurity   \n7        Be sure to get back to us when you have decide...          what3v3r   \n...                                                    ...               ...   \n1051643  I'd like to add one to the list, a truly loath...            ns2103   \n1051644  Shit if celebrities were shown as they really ...            Az1521   \n1051646  That's certainly another inroad to ending proh...          MrDanger   \n1051647  Naturally and a moot point. Cattle doesn't roa...  JewishPropaganda   \n1051648  So does that mean you can build Firefox with a...            revo86   \n\n               name  \n0           t1_7va2  \n1           t1_7va3  \n2           t1_7va4  \n4           t1_7va6  \n7           t1_7va9  \n...             ...  \n1051643  t1_c07e6jm  \n1051644  t1_c07e6jn  \n1051646  t1_c07e6jp  \n1051647  t1_c07e6jq  \n1051648  t1_c07e6jr  \n\n[694466 rows x 5 columns]",
      "text/html": "<div>\n<style scoped>\n    .dataframe tbody tr th:only-of-type {\n        vertical-align: middle;\n    }\n\n    .dataframe tbody tr th {\n        vertical-align: top;\n    }\n\n    .dataframe thead th {\n        text-align: right;\n    }\n</style>\n<table border=\"1\" class=\"dataframe\">\n  <thead>\n    <tr style=\"text-align: right;\">\n      <th></th>\n      <th>created_utc</th>\n      <th>subreddit</th>\n      <th>body</th>\n      <th>author</th>\n      <th>name</th>\n    </tr>\n  </thead>\n  <tbody>\n    <tr>\n      <th>0</th>\n      <td>1230768002</td>\n      <td>reddit.com</td>\n      <td>Awww...I was hoping this post was about the li...</td>\n      <td>Envark</td>\n      <td>t1_7va2</td>\n    </tr>\n    <tr>\n      <th>1</th>\n      <td>1230768006</td>\n      <td>gaming</td>\n      <td>I think PoP slightly fixed the Vita-Chamber pr...</td>\n      <td>hoott</td>\n      <td>t1_7va3</td>\n    </tr>\n    <tr>\n      <th>2</th>\n      <td>1230768007</td>\n      <td>pics</td>\n      <td>**Nigger + Obama. Jailbait + bestof** etc etc</td>\n      <td>KiddieFiddler</td>\n      <td>t1_7va4</td>\n    </tr>\n    <tr>\n      <th>4</th>\n      <td>1230768012</td>\n      <td>pics</td>\n      <td>You should join the barefoot running community...</td>\n      <td>bluesecurity</td>\n      <td>t1_7va6</td>\n    </tr>\n    <tr>\n      <th>7</th>\n      <td>1230768026</td>\n      <td>reddit.com</td>\n      <td>Be sure to get back to us when you have decide...</td>\n      <td>what3v3r</td>\n      <td>t1_7va9</td>\n    </tr>\n    <tr>\n      <th>...</th>\n      <td>...</td>\n      <td>...</td>\n      <td>...</td>\n      <td>...</td>\n      <td>...</td>\n    </tr>\n    <tr>\n      <th>1051643</th>\n      <td>1233446394</td>\n      <td>offbeat</td>\n      <td>I'd like to add one to the list, a truly loath...</td>\n      <td>ns2103</td>\n      <td>t1_c07e6jm</td>\n    </tr>\n    <tr>\n      <th>1051644</th>\n      <td>1233446396</td>\n      <td>worldnews</td>\n      <td>Shit if celebrities were shown as they really ...</td>\n      <td>Az1521</td>\n      <td>t1_c07e6jn</td>\n    </tr>\n    <tr>\n      <th>1051646</th>\n      <td>1233446397</td>\n      <td>Marijuana</td>\n      <td>That's certainly another inroad to ending proh...</td>\n      <td>MrDanger</td>\n      <td>t1_c07e6jp</td>\n    </tr>\n    <tr>\n      <th>1051647</th>\n      <td>1233446398</td>\n      <td>worldnews</td>\n      <td>Naturally and a moot point. Cattle doesn't roa...</td>\n      <td>JewishPropaganda</td>\n      <td>t1_c07e6jq</td>\n    </tr>\n    <tr>\n      <th>1051648</th>\n      <td>1233446398</td>\n      <td>technology</td>\n      <td>So does that mean you can build Firefox with a...</td>\n      <td>revo86</td>\n      <td>t1_c07e6jr</td>\n    </tr>\n  </tbody>\n</table>\n<p>694466 rows × 5 columns</p>\n</div>"
     },
     "execution_count": 8,
     "metadata": {},
     "output_type": "execute_result"
    }
   ],
   "source": [
    "remove_deleted_users_df"
   ],
   "metadata": {
    "collapsed": false
   }
  },
  {
   "cell_type": "code",
   "execution_count": 9,
   "outputs": [],
   "source": [
    "remove_deleted_users_df['timestamp_col'] = pd.to_datetime(df['created_utc'], unit='s').dt.tz_localize(pytz.utc)"
   ],
   "metadata": {
    "collapsed": false
   }
  },
  {
   "cell_type": "code",
   "execution_count": 10,
   "outputs": [
    {
     "data": {
      "text/plain": "         created_utc   subreddit  \\\n0         1230768002  reddit.com   \n1         1230768006      gaming   \n2         1230768007        pics   \n4         1230768012        pics   \n7         1230768026  reddit.com   \n...              ...         ...   \n1051643   1233446394     offbeat   \n1051644   1233446396   worldnews   \n1051646   1233446397   Marijuana   \n1051647   1233446398   worldnews   \n1051648   1233446398  technology   \n\n                                                      body            author  \\\n0        Awww...I was hoping this post was about the li...            Envark   \n1        I think PoP slightly fixed the Vita-Chamber pr...             hoott   \n2            **Nigger + Obama. Jailbait + bestof** etc etc     KiddieFiddler   \n4        You should join the barefoot running community...      bluesecurity   \n7        Be sure to get back to us when you have decide...          what3v3r   \n...                                                    ...               ...   \n1051643  I'd like to add one to the list, a truly loath...            ns2103   \n1051644  Shit if celebrities were shown as they really ...            Az1521   \n1051646  That's certainly another inroad to ending proh...          MrDanger   \n1051647  Naturally and a moot point. Cattle doesn't roa...  JewishPropaganda   \n1051648  So does that mean you can build Firefox with a...            revo86   \n\n               name             timestamp_col  \n0           t1_7va2 2009-01-01 00:00:02+00:00  \n1           t1_7va3 2009-01-01 00:00:06+00:00  \n2           t1_7va4 2009-01-01 00:00:07+00:00  \n4           t1_7va6 2009-01-01 00:00:12+00:00  \n7           t1_7va9 2009-01-01 00:00:26+00:00  \n...             ...                       ...  \n1051643  t1_c07e6jm 2009-01-31 23:59:54+00:00  \n1051644  t1_c07e6jn 2009-01-31 23:59:56+00:00  \n1051646  t1_c07e6jp 2009-01-31 23:59:57+00:00  \n1051647  t1_c07e6jq 2009-01-31 23:59:58+00:00  \n1051648  t1_c07e6jr 2009-01-31 23:59:58+00:00  \n\n[694466 rows x 6 columns]",
      "text/html": "<div>\n<style scoped>\n    .dataframe tbody tr th:only-of-type {\n        vertical-align: middle;\n    }\n\n    .dataframe tbody tr th {\n        vertical-align: top;\n    }\n\n    .dataframe thead th {\n        text-align: right;\n    }\n</style>\n<table border=\"1\" class=\"dataframe\">\n  <thead>\n    <tr style=\"text-align: right;\">\n      <th></th>\n      <th>created_utc</th>\n      <th>subreddit</th>\n      <th>body</th>\n      <th>author</th>\n      <th>name</th>\n      <th>timestamp_col</th>\n    </tr>\n  </thead>\n  <tbody>\n    <tr>\n      <th>0</th>\n      <td>1230768002</td>\n      <td>reddit.com</td>\n      <td>Awww...I was hoping this post was about the li...</td>\n      <td>Envark</td>\n      <td>t1_7va2</td>\n      <td>2009-01-01 00:00:02+00:00</td>\n    </tr>\n    <tr>\n      <th>1</th>\n      <td>1230768006</td>\n      <td>gaming</td>\n      <td>I think PoP slightly fixed the Vita-Chamber pr...</td>\n      <td>hoott</td>\n      <td>t1_7va3</td>\n      <td>2009-01-01 00:00:06+00:00</td>\n    </tr>\n    <tr>\n      <th>2</th>\n      <td>1230768007</td>\n      <td>pics</td>\n      <td>**Nigger + Obama. Jailbait + bestof** etc etc</td>\n      <td>KiddieFiddler</td>\n      <td>t1_7va4</td>\n      <td>2009-01-01 00:00:07+00:00</td>\n    </tr>\n    <tr>\n      <th>4</th>\n      <td>1230768012</td>\n      <td>pics</td>\n      <td>You should join the barefoot running community...</td>\n      <td>bluesecurity</td>\n      <td>t1_7va6</td>\n      <td>2009-01-01 00:00:12+00:00</td>\n    </tr>\n    <tr>\n      <th>7</th>\n      <td>1230768026</td>\n      <td>reddit.com</td>\n      <td>Be sure to get back to us when you have decide...</td>\n      <td>what3v3r</td>\n      <td>t1_7va9</td>\n      <td>2009-01-01 00:00:26+00:00</td>\n    </tr>\n    <tr>\n      <th>...</th>\n      <td>...</td>\n      <td>...</td>\n      <td>...</td>\n      <td>...</td>\n      <td>...</td>\n      <td>...</td>\n    </tr>\n    <tr>\n      <th>1051643</th>\n      <td>1233446394</td>\n      <td>offbeat</td>\n      <td>I'd like to add one to the list, a truly loath...</td>\n      <td>ns2103</td>\n      <td>t1_c07e6jm</td>\n      <td>2009-01-31 23:59:54+00:00</td>\n    </tr>\n    <tr>\n      <th>1051644</th>\n      <td>1233446396</td>\n      <td>worldnews</td>\n      <td>Shit if celebrities were shown as they really ...</td>\n      <td>Az1521</td>\n      <td>t1_c07e6jn</td>\n      <td>2009-01-31 23:59:56+00:00</td>\n    </tr>\n    <tr>\n      <th>1051646</th>\n      <td>1233446397</td>\n      <td>Marijuana</td>\n      <td>That's certainly another inroad to ending proh...</td>\n      <td>MrDanger</td>\n      <td>t1_c07e6jp</td>\n      <td>2009-01-31 23:59:57+00:00</td>\n    </tr>\n    <tr>\n      <th>1051647</th>\n      <td>1233446398</td>\n      <td>worldnews</td>\n      <td>Naturally and a moot point. Cattle doesn't roa...</td>\n      <td>JewishPropaganda</td>\n      <td>t1_c07e6jq</td>\n      <td>2009-01-31 23:59:58+00:00</td>\n    </tr>\n    <tr>\n      <th>1051648</th>\n      <td>1233446398</td>\n      <td>technology</td>\n      <td>So does that mean you can build Firefox with a...</td>\n      <td>revo86</td>\n      <td>t1_c07e6jr</td>\n      <td>2009-01-31 23:59:58+00:00</td>\n    </tr>\n  </tbody>\n</table>\n<p>694466 rows × 6 columns</p>\n</div>"
     },
     "execution_count": 10,
     "metadata": {},
     "output_type": "execute_result"
    }
   ],
   "source": [
    "remove_deleted_users_df"
   ],
   "metadata": {
    "collapsed": false
   }
  },
  {
   "cell_type": "code",
   "execution_count": 11,
   "outputs": [],
   "source": [
    "grouped = remove_deleted_users_df.groupby('author').size().reset_index(name='count')"
   ],
   "metadata": {
    "collapsed": false
   }
  },
  {
   "cell_type": "code",
   "execution_count": 12,
   "outputs": [
    {
     "data": {
      "text/plain": "               author  count\n0                 -42      2\n1             -Borfo-     54\n2                 -Fe      1\n3                 -J-     18\n4             -Rufus-      1\n...               ...    ...\n38973  zzzSleepyCoder      1\n38974      zzzVladzzz      1\n38975          zzzeek     26\n38976        zzzz2008      3\n38977          zzzzaf      1\n\n[38978 rows x 2 columns]",
      "text/html": "<div>\n<style scoped>\n    .dataframe tbody tr th:only-of-type {\n        vertical-align: middle;\n    }\n\n    .dataframe tbody tr th {\n        vertical-align: top;\n    }\n\n    .dataframe thead th {\n        text-align: right;\n    }\n</style>\n<table border=\"1\" class=\"dataframe\">\n  <thead>\n    <tr style=\"text-align: right;\">\n      <th></th>\n      <th>author</th>\n      <th>count</th>\n    </tr>\n  </thead>\n  <tbody>\n    <tr>\n      <th>0</th>\n      <td>-42</td>\n      <td>2</td>\n    </tr>\n    <tr>\n      <th>1</th>\n      <td>-Borfo-</td>\n      <td>54</td>\n    </tr>\n    <tr>\n      <th>2</th>\n      <td>-Fe</td>\n      <td>1</td>\n    </tr>\n    <tr>\n      <th>3</th>\n      <td>-J-</td>\n      <td>18</td>\n    </tr>\n    <tr>\n      <th>4</th>\n      <td>-Rufus-</td>\n      <td>1</td>\n    </tr>\n    <tr>\n      <th>...</th>\n      <td>...</td>\n      <td>...</td>\n    </tr>\n    <tr>\n      <th>38973</th>\n      <td>zzzSleepyCoder</td>\n      <td>1</td>\n    </tr>\n    <tr>\n      <th>38974</th>\n      <td>zzzVladzzz</td>\n      <td>1</td>\n    </tr>\n    <tr>\n      <th>38975</th>\n      <td>zzzeek</td>\n      <td>26</td>\n    </tr>\n    <tr>\n      <th>38976</th>\n      <td>zzzz2008</td>\n      <td>3</td>\n    </tr>\n    <tr>\n      <th>38977</th>\n      <td>zzzzaf</td>\n      <td>1</td>\n    </tr>\n  </tbody>\n</table>\n<p>38978 rows × 2 columns</p>\n</div>"
     },
     "execution_count": 12,
     "metadata": {},
     "output_type": "execute_result"
    }
   ],
   "source": [
    "grouped"
   ],
   "metadata": {
    "collapsed": false
   }
  },
  {
   "cell_type": "code",
   "execution_count": 13,
   "outputs": [],
   "source": [
    "target_authors = grouped.loc[grouped['count'] >= 5]"
   ],
   "metadata": {
    "collapsed": false
   }
  },
  {
   "cell_type": "code",
   "execution_count": 14,
   "outputs": [
    {
     "data": {
      "text/plain": "          author  count\n1        -Borfo-     54\n3            -J-     18\n5           -So-      8\n8          -___-     72\n11       -scout-     11\n...          ...    ...\n38966  zzbigalzz      7\n38967      zzbzq     45\n38968   zzleeper     18\n38971      zzrxy     22\n38975     zzzeek     26\n\n[16058 rows x 2 columns]",
      "text/html": "<div>\n<style scoped>\n    .dataframe tbody tr th:only-of-type {\n        vertical-align: middle;\n    }\n\n    .dataframe tbody tr th {\n        vertical-align: top;\n    }\n\n    .dataframe thead th {\n        text-align: right;\n    }\n</style>\n<table border=\"1\" class=\"dataframe\">\n  <thead>\n    <tr style=\"text-align: right;\">\n      <th></th>\n      <th>author</th>\n      <th>count</th>\n    </tr>\n  </thead>\n  <tbody>\n    <tr>\n      <th>1</th>\n      <td>-Borfo-</td>\n      <td>54</td>\n    </tr>\n    <tr>\n      <th>3</th>\n      <td>-J-</td>\n      <td>18</td>\n    </tr>\n    <tr>\n      <th>5</th>\n      <td>-So-</td>\n      <td>8</td>\n    </tr>\n    <tr>\n      <th>8</th>\n      <td>-___-</td>\n      <td>72</td>\n    </tr>\n    <tr>\n      <th>11</th>\n      <td>-scout-</td>\n      <td>11</td>\n    </tr>\n    <tr>\n      <th>...</th>\n      <td>...</td>\n      <td>...</td>\n    </tr>\n    <tr>\n      <th>38966</th>\n      <td>zzbigalzz</td>\n      <td>7</td>\n    </tr>\n    <tr>\n      <th>38967</th>\n      <td>zzbzq</td>\n      <td>45</td>\n    </tr>\n    <tr>\n      <th>38968</th>\n      <td>zzleeper</td>\n      <td>18</td>\n    </tr>\n    <tr>\n      <th>38971</th>\n      <td>zzrxy</td>\n      <td>22</td>\n    </tr>\n    <tr>\n      <th>38975</th>\n      <td>zzzeek</td>\n      <td>26</td>\n    </tr>\n  </tbody>\n</table>\n<p>16058 rows × 2 columns</p>\n</div>"
     },
     "execution_count": 14,
     "metadata": {},
     "output_type": "execute_result"
    }
   ],
   "source": [
    "target_authors"
   ],
   "metadata": {
    "collapsed": false
   }
  },
  {
   "cell_type": "code",
   "execution_count": 15,
   "outputs": [],
   "source": [
    "target_authors_list = target_authors['author'].tolist()"
   ],
   "metadata": {
    "collapsed": false
   }
  },
  {
   "cell_type": "code",
   "execution_count": 16,
   "outputs": [
    {
     "data": {
      "text/plain": "['-Borfo-',\n '-J-',\n '-So-',\n '-___-',\n '-scout-',\n '-tc-',\n '000078754',\n '000xxx000',\n '01Arjuna',\n '05caniffa',\n '0_o',\n '0drew0',\n '0gleth0rpe',\n '0oruneo0',\n '0point',\n '0sn',\n '0wnagetime',\n '0xfab',\n '1000Steps',\n '100purehoodia',\n '107reasonswhy',\n '108Rats',\n '10acious',\n '1100',\n '11421172',\n '11eleven11',\n '123412341234',\n '12358',\n '12Iceman',\n '12_strangers',\n '1310nm',\n '134KS',\n '13ren',\n '159734682',\n '1812overture',\n '187lennon',\n '187ninjuh',\n '1917777',\n '19f191ty',\n '1cesc',\n '1esproc',\n '20man',\n '21jack21',\n '27182818284',\n '2_of_8',\n '2legit2kwit',\n '2oonhed',\n '2percentright',\n '2sjh1',\n '2tall',\n '300zedex',\n '311ncubus',\n '31337357',\n '315was_an_inside_job',\n '32497894575',\n '32bites',\n '3434889',\n '3HackBug77',\n '3L1T3',\n '3atm3',\n '3daddict',\n '3dimka',\n '3dom',\n '3li0',\n '3rdFunkyBot',\n '3rdfoundation',\n '40ozphil',\n '420greg',\n '42omle',\n '4309849078',\n '43P04T34',\n '45bur',\n '4609287645',\n '48klocs',\n '4FourtyTwo2',\n '4rashi',\n '4shane76',\n '5-4-3-2-1-bang',\n '54gy6dm',\n '5555',\n '5fifteen',\n '5m10y',\n '60secs',\n '6562dp',\n '6angryapes',\n '702103',\n '777kog',\n '77or88',\n '7amWDG',\n '7aylor',\n '7kate9',\n '7oby',\n '7thString',\n '8-Mighty-Arms',\n '808140',\n '88dan88',\n '911was_a_inside_joke',\n '97bravo',\n '99cent',\n '9bpm9',\n '9fZZ776O',\n '9jack9',\n '9ner',\n 'A1icia',\n 'AAjax',\n 'ABabyAteMyDingo',\n 'ACiDGRiM',\n 'ADAP2K',\n 'ADHDgamer',\n 'ADIDAS247',\n 'AFTC',\n 'AIHound',\n 'AK1RA07',\n 'AK47blues',\n 'ALynThomas',\n 'AM088',\n 'AMACTASTIC55k',\n 'AMerrickanGirl',\n 'AOCsense',\n 'ARS_',\n 'ASKMEABOUTERLANG',\n 'ASupertramp',\n 'AVISINGH',\n 'A_Human_Being',\n 'Aarmed',\n 'Aaronius',\n 'AbleBaker',\n 'Ablerank',\n 'Aborted_Fetus_Eero',\n 'AbouBenAdhem',\n 'Ac3',\n 'AccountIUseWhenHigh',\n 'AccountofAdam',\n 'AceAttacker',\n 'Acewrap',\n 'Acglaphotis',\n 'Achalemoipas',\n 'ActionAuto',\n 'Actius',\n 'Adagio',\n 'AdamTReineke',\n 'Adduc',\n 'Adelaidey',\n 'Ademan',\n 'Adman65',\n 'Admiral-Evident',\n 'AdmiralBumblebee',\n 'AdmiralDave',\n 'Adqam',\n 'Aegeus',\n 'Aerik',\n 'AeroAggie',\n 'Aesir',\n 'Afaflix',\n 'Agathos',\n 'Agent00funk',\n 'Agoniscool',\n 'Ahnteis',\n 'Aikidi',\n 'Ajenthavoc',\n 'Akamaru',\n 'Akeshi',\n 'Akhel',\n 'AlDente',\n 'AlLnAtuRalX',\n 'AlSweigart',\n 'AlanCrowe',\n 'AlanEvident',\n 'AlanYx',\n 'Albatron',\n 'AlbinoOrangutan',\n 'Albuyeh',\n 'AlbyWee',\n 'Aldrenean',\n 'Aleitheo',\n 'AlejandroTheGreat',\n 'AlekseyP',\n 'Aleut',\n 'Alex3917',\n 'Alexace31190',\n 'AlexanderSBrown',\n 'AlexeyMK',\n 'AliLaPointeTexasii',\n 'AliasHandler',\n 'AlifRafikKhan',\n 'AlisonWiley',\n 'All23',\n 'All24',\n 'AllForChange',\n 'AllGood',\n 'AllLiquid',\n 'AllModerate',\n 'AllThePenguins',\n 'AllZoo',\n 'Allectus',\n 'AllexS',\n 'Aloy',\n 'Alpha-Toxic',\n 'AlphaSquad7',\n 'AlphaX',\n 'AltTab',\n 'Altoid_Addict',\n 'Altras',\n 'Aluhut',\n 'Amathaine',\n 'AmazingSyco',\n 'Amdijefri',\n 'AmenBreak',\n 'Amendmen7',\n 'AmericanGoyBlog',\n 'AmidTheSnow',\n 'AmosYoder',\n 'AmyGrace',\n 'AnAppleSnail',\n 'Ancho',\n 'AndTheHeroFai1s',\n 'AndWat',\n 'Andareed',\n 'Andoo',\n 'AndreasBWagner',\n 'AndrewBenton',\n 'AndrewJackson',\n 'AndrewKemendo',\n 'AndrewStephens',\n 'Andys',\n 'AngelaMotorman',\n 'Angelle',\n 'AngledLuffa',\n 'AngryBadger',\n 'AngryRepublican',\n 'Angry_Grammarian',\n 'AnhaengerVonMarx',\n 'Anisty',\n 'Anjin',\n 'AnnArchist',\n 'AnnMarieDwyer',\n 'Annojo',\n 'Anomander',\n 'Anonymoose5',\n 'Anonymous_Poster',\n 'AnotherGeek',\n 'Anselmo',\n 'AnswerLady',\n 'AnteChronos',\n 'Antebios',\n 'Anthem26',\n 'Anthet',\n 'Anti-Dentite',\n 'Antidote',\n 'Antipop',\n 'AntisemitismIsEvil',\n 'Antiuniverse',\n 'AntonOlsen',\n 'AnythingApplied',\n 'Anzat',\n 'Anzi',\n 'AoP',\n 'Apaulo',\n 'Apeart',\n 'Apie',\n 'Apothem',\n 'Apox66',\n 'Apple_Dave',\n 'Applesauces',\n 'AprilEthereal',\n 'Aqua_lung',\n 'ArabburnvictiM',\n 'Araucaria',\n 'Araya213',\n 'ArcadeBumstead',\n 'Archz714',\n 'Arclight',\n 'Arcologist',\n 'ArcticCelt',\n 'Ardentfrost',\n 'Arelius',\n 'Arguron',\n 'Arithered',\n 'Arkaein',\n 'Arkonnan',\n 'ArmandoPenblade',\n 'Arrgh',\n 'Arsecroft',\n 'ArtVandeley',\n 'ArthurCravan',\n 'ArtlessDodger',\n 'Artmageddon',\n 'Artman009',\n 'Arttherapist',\n 'Arve',\n 'Arxilca',\n 'Asgeir',\n 'AshCairo',\n 'Ash_Williams',\n 'Ashex',\n 'AskTheManager',\n 'Asmodeus',\n 'Astly2',\n 'AstroZombieDC',\n 'Astroboy14',\n 'Astronoid',\n 'Astroturfer',\n 'Asystole',\n 'Ateoto',\n 'AtheismFTW',\n 'AthlonRob',\n 'Atman00',\n 'Atomics',\n 'AttackingHobo',\n 'Auctionwally',\n 'Augzodia',\n 'AuhsojSivart',\n 'AusIV',\n 'AussiePete',\n 'Autoclave',\n 'Autoeroticrat',\n 'Autotrappic',\n 'Avantcore',\n 'AvatarOfErebus',\n 'AverageCypress',\n 'Aviator',\n 'Avielus',\n 'Awoody87',\n 'Axemantitan',\n 'AxiomShell',\n 'Ayavaron',\n 'Aybraus',\n 'Az1521',\n 'AzMoo',\n 'Azradesh',\n 'B-Con',\n 'BCHarvey',\n 'BELAZER',\n 'BLG432',\n 'BLeakert',\n 'BMErdin',\n 'BMeph',\n 'BMikasa',\n 'BOFH139',\n 'BONUS_',\n 'BUBBA_BOY',\n 'B_C_',\n 'B_Cannon',\n 'Ba-Ba-Boosh',\n 'BaboTron',\n 'BabyJesus',\n 'Babyfishie',\n 'BaconUpThatSausage',\n 'BaconatedGrapefruit',\n 'Baconfat',\n 'BadBoyNDSU',\n 'BadDreams27',\n 'Badekar',\n 'Bagel',\n 'Bahro',\n 'BahtJebbel',\n 'BakersDozen',\n 'BanX',\n 'Bananaz',\n 'Bane',\n 'BangGoodOne',\n 'Banko',\n 'Baphomet',\n 'Baramin',\n 'Barbaricfellow',\n 'BarkingDoggie',\n 'Barnlinger',\n 'BaronBic',\n 'BaronVonMannsechs',\n 'Barto246',\n 'Bascome',\n 'Baseline',\n 'BastiX',\n 'Battleloser',\n 'Bauer22',\n 'Bayard',\n 'Bbaily',\n 'BeShirtHappy',\n 'Beachcoma',\n 'Bean888',\n 'BearCubDan',\n 'BeardWand',\n 'BearsBeatsBSG',\n 'BeatnikDude',\n 'Bedrovelsen',\n 'Beefington',\n 'BeerOtter',\n 'BeetleB',\n 'Belgain_Roffles',\n 'BellicoseBaby',\n 'Beltran22',\n 'Bemuzed',\n 'BenHanby',\n 'BenjaminFranklin',\n 'Benjaphar',\n 'BennyG02',\n 'Benny_Lava',\n 'Bensch',\n 'BentSlightly',\n 'Benzona',\n 'BeowulfShaeffer',\n 'Bermsalot',\n 'BernardMarx',\n 'Bertez',\n 'Bertwad',\n 'BesideHimself',\n 'BestServedCold',\n 'BewareTheAgapanthus',\n 'Bhima',\n 'BiGGMike',\n 'BicyclesforPeace',\n 'BigBadAl',\n 'BigChinaski',\n 'BigDawgWTF',\n 'BigFootsDick',\n 'BigGreenSticky',\n 'BigKahunaBurger',\n 'BigMikeYork',\n 'Big_McLargeHuge',\n 'BiggerBalls',\n 'Bikopelli',\n 'BillDauterive',\n 'Billiam1975',\n 'Billistic',\n 'BinaryShadow',\n 'Bing11',\n 'BioGeek',\n 'BioSemantics',\n 'BionicBeefpile',\n 'Birdo',\n 'Birdoftruth',\n 'BisonFucker',\n 'Bizdorph',\n 'Bjartr',\n 'BjornSlippy',\n 'BlackFlag',\n 'BlackGlass',\n 'BlackSquirrel',\n 'BlackSunshine',\n 'BlackestNight21',\n 'Blackheart',\n 'Blackmane',\n 'Blacks_Are_Retarded',\n 'Blackstaff',\n 'BlahblahName',\n 'Blaidd_Dwrg',\n 'Blasphlegmy',\n 'BlazinEurasian',\n 'Blkhrtd',\n 'Blnd2Spll',\n 'Bloaf',\n 'Bloodlustt',\n 'Bloody_Eye',\n 'BlueBeard',\n 'BlueBell001',\n 'BlueDeath',\n 'BlueOrange',\n 'BlueRenner',\n 'Blueberryspies',\n 'Bluth_bananas',\n 'Bluur',\n 'Boab1917',\n 'BoardColorado',\n 'BoardWalker',\n 'Bob3333',\n 'BobGaffney',\n 'BobbyDelray',\n 'BobbyKen',\n 'BobbyShaftoe',\n 'Bobwise',\n 'Bodie1550',\n 'BoggleBrain',\n 'Bognar',\n 'BoltsJustice',\n 'Bombheart',\n 'BonzoESC',\n 'Boobjob4u',\n 'Boojum',\n 'Boolean',\n 'BoomptyMcBloog',\n 'BoonTobias',\n 'BooshPilot',\n 'Borachoke',\n 'BordrGuy108',\n 'Boreal',\n 'Bored',\n 'BoredHottie',\n 'BoredLayout',\n 'Borgismorgue',\n 'BorisKafka',\n 'Bort74',\n 'Bosley',\n 'BossColo',\n 'Bossman1086',\n 'BostonBlackie',\n 'BostonCharlie',\n 'BostonTentacleParty',\n 'Botunda',\n 'Boulderado',\n 'BovingdonBug',\n 'BoycottAllah',\n 'Boye',\n 'Brachinus',\n 'BradHAWK',\n 'Brain_statiC',\n 'BrandChopian',\n 'Brandbla8',\n 'BrandonRushing',\n 'Brantin',\n 'Branyers',\n 'Brattain',\n 'BraveSirRobin',\n 'BravoLima',\n 'Breadhook',\n 'Breeder18',\n 'Breeze99',\n 'Brenbren25',\n 'BrendanSheehan',\n 'Brenden105',\n 'BrettLefty',\n 'Briamah',\n 'Brian',\n 'BrianBoyko',\n 'BrianNowhere',\n 'BrickSalad',\n 'BridgeBum',\n 'BristolPalin',\n 'BritainRitten',\n 'BritishEnglishPolice',\n 'Brittix1023',\n 'BrkneS',\n 'Brndn',\n 'BroDavii',\n 'Brocklesocks',\n 'Brokebackcasket',\n 'Brolee',\n 'BrooksMoses',\n 'BrotherSeamus',\n 'BrownGregory',\n 'Browzer',\n 'BruceCampbell123',\n 'Brujah669',\n 'BryceW',\n 'Btrash',\n 'BuboTitan',\n 'Buckleydog',\n 'Buckwheat469',\n 'Buddha24',\n 'BuddhaJ',\n 'BudgingMidget',\n 'Buelldozer',\n 'Bujanx',\n 'Bukz68',\n 'Bumbaclaat',\n 'BurakkuChi',\n 'Burbulous',\n 'Burlapin',\n 'BurnTees',\n 'Burnage',\n 'Burnsx3',\n 'BusStation16',\n 'Bushdiditfirst',\n 'BusinessDelivery',\n 'Bust_A_Cap',\n 'Busybyeski',\n 'ButtScratcher',\n 'Buttercup50',\n 'Butterknuckle',\n 'Buzzard',\n 'Bwardrop',\n 'Bza',\n 'Bzzt',\n 'CC440',\n 'CCMSTF',\n 'CCRRJJ',\n 'CD7',\n 'CDLTO',\n 'CDRnotDVD',\n 'CFHQYH',\n 'CJDehnel',\n 'CJGibson',\n 'CLer_in_VA',\n 'CPOliver',\n 'CR1M1N4L',\n 'CSharpSauce',\n 'CUNexTuesday',\n 'C_Marivs',\n 'CaffiendCA',\n 'Caiocow',\n 'Cait_Monster',\n 'Calcagus',\n 'Caldosa',\n 'Caleb666',\n 'CaliforniaEagle',\n 'Caligula',\n 'Caligynemania',\n 'Calipublican',\n 'Calmaveth',\n 'Caluen',\n 'CalvinLawson',\n 'CalvinR',\n 'Calvin_the_Bold',\n 'Camarade_Tux',\n 'CamelToeElvis',\n 'Cameljock',\n 'CampusTour',\n 'CanadianNinja',\n 'Canadian_Infidel',\n 'Cand1date',\n 'Cannabrain',\n 'CannedMango',\n 'Cannonstar',\n 'Capi77',\n 'Capitalism',\n 'Capitalist_Piglet',\n 'Capitol62',\n 'Cappy-chan',\n 'CaptBurgundy',\n 'CaptainCrunch',\n 'CaptainDevious',\n 'CaptainG0705',\n 'CaptainJesusHood',\n 'CaptainObnoxious',\n 'Captain_Cunning',\n 'Captain_Harlock',\n 'Captain_Ligature',\n 'Captain_Midnight',\n 'Captain_Underpants',\n 'Captain___Obvious',\n 'Captian_Oblivious',\n 'CaptnHector',\n 'Capulan',\n 'Caraes_Naur',\n 'Cararan',\n 'CarbonFire',\n 'Carioca',\n 'CarlH',\n 'CarolinaKSU',\n 'Carolinear',\n 'Carpeabnocto',\n 'CarsonCity314',\n 'Cartosys',\n 'CaseyCCC',\n 'CashOverAss',\n 'CaspianX2',\n 'CasualReader',\n 'CatMan_Dude',\n 'Cataclysm',\n 'Catch-22',\n 'Caternary',\n 'CatsAreGods',\n 'Caudebac',\n 'Causemos',\n 'CausticPuppy',\n 'CavMan',\n 'CaveMike',\n 'Cavorticus',\n 'Cbeck527',\n 'CdnGuy',\n 'Cdresden',\n 'Ceasadh',\n 'CellBlock',\n 'Celsius233',\n 'Ceph',\n 'Cereo',\n 'Ch1mpy',\n 'Chacarron',\n 'ChagrinRiddle',\n 'Chairboy',\n 'Chairmclee',\n 'Chamanzan',\n 'ChancePhantasmo',\n 'Chandon',\n 'Chandwaq',\n 'Chanotc',\n 'ChaosMotor',\n 'ChaoticLlama',\n 'Chaoticmass',\n 'Charice',\n 'Charismaticmegafauna',\n 'Charleym',\n 'Charlie24601',\n 'CharlieSpankface',\n 'Charybdis',\n 'Chasingwaves',\n 'ChazR',\n 'ChazSansDave',\n 'CheatorBeat',\n 'CheckandBalance',\n 'Cheeta66',\n 'ChefEspeff',\n 'ChefOfSin',\n 'ChernobylBaby',\n 'Cherry5oda',\n 'CherryInHove',\n 'Chesh',\n 'Chetan7',\n 'Chewbacca69',\n 'Chewyboognish',\n 'ChiTownMafia',\n 'ChiXiStigma',\n 'ChimpWithACar',\n 'Chimpelol',\n 'ChingChangCharlie',\n 'ChipotleSalad',\n 'Chirp08',\n 'Chisaku',\n 'Chknbone',\n 'ChocChinder',\n 'Chocobo812',\n 'ChokingVictim',\n 'Chompy',\n 'ChoobaChabba',\n 'ChrisAndersen',\n 'ChrisRathman',\n 'ChrisWalsh',\n 'ChristianAAJ',\n 'Christianna',\n 'Chroko',\n 'Chryson',\n 'Chrysophrase',\n 'Chumbodonk',\n 'Chun',\n 'ChunkyLaFunga',\n 'Churn',\n 'Chyndonax',\n 'CiXeL',\n 'Ciceros_Assassin',\n 'Cid420',\n 'Cilpot',\n 'Cincin21',\n 'Ciserus',\n 'ClackAttack',\n 'Clark76',\n 'ClarkGable',\n 'Clemsanza',\n 'Cleric85',\n 'Clevedog',\n 'CliffDropOver',\n 'Clintondiditfirst',\n 'ClitorisMaximus',\n 'Clothos',\n 'CloudDrone',\n 'Coalesce',\n 'CoastOfYemen',\n 'Cobalt-Spike',\n 'CockerhamExperiment',\n 'CockeyedPete',\n 'CodeMangler',\n 'CodeMonkey1',\n 'Code_Monkey',\n 'Codebender',\n 'CodenameEvan',\n 'Cody2',\n 'CognitiveLens',\n 'ColdSnickersBar',\n 'ColonelFuckface',\n 'Comment',\n 'CommentMan',\n 'CommodoreGuff',\n 'Comowl',\n 'ComplexEmergency',\n 'ComradeBill',\n 'Conservativepublican',\n 'ConstipatedSherlock',\n 'Construct',\n 'ContentWithOurDecay',\n 'Cookie',\n 'Corey24',\n 'Corgan1351',\n 'Corgana',\n 'Coriform',\n 'Corosus',\n 'CorpT',\n 'CorporalClegg68',\n 'CorpusCallosum',\n 'Corruption-Watch',\n 'CosmicBard',\n 'Cosmic_Charlie',\n 'Cosmonaut86',\n 'Cousin_Dupree',\n 'CowWithBeef',\n 'CowboyDan',\n 'Cowwan',\n 'CpnCornDogg',\n 'Cpt2Slow',\n 'Cptn02',\n 'Cpunks',\n 'CrackIsGoodForYou',\n 'Crackheadbob',\n 'Crafts',\n 'CraigTorso',\n 'Craptain',\n 'CrashCodes',\n 'Crath',\n 'CrawstonWaffle',\n 'CreepyFootDr',\n 'Crestina',\n 'Crib_D',\n 'Criffer',\n 'Criminoboy',\n 'CrimsonSun99',\n 'Crito',\n 'CritterM72800',\n 'Crizack',\n 'CroMag',\n 'Crona',\n 'Cronus6',\n 'Cryptic0677',\n 'CrystalCheer22',\n 'CrystalShard',\n 'CrzyMke',\n 'Csai',\n 'Cthonic',\n 'Cubedesigner2',\n 'CuilHandLuke',\n 'CuntSmellersLLP',\n 'CuntSmellersMegaCorp',\n 'Curiosity',\n 'Curmudgeon',\n 'Curtisbeef',\n 'Cuselax5',\n 'CuteAlien',\n 'Cxan',\n 'Cyclops0T8',\n 'Cygnarite',\n 'CygnusFTK',\n 'Cyrius',\n 'Czo',\n 'D-Style',\n 'D3ADBOLT',\n 'DAN191535',\n 'DAVYWAVY',\n 'DAWTSF',\n 'DBpooper',\n 'DCGaymer',\n 'DCintheUK',\n 'DD0',\n 'DDDavinnn',\n 'DEADB33F',\n 'DFowler',\n 'DGolden',\n 'DINKDINK',\n 'DIYromania',\n 'DJPho3nix',\n 'DJZupZup',\n 'DJeddle',\n 'DKro',\n 'DLM622',\n 'DLWormwood',\n 'DLincoln',\n 'DNME',\n 'DOGA',\n 'DRMacIver',\n 'DSLJohn',\n 'DSPUO',\n 'DSchmitt',\n 'DSinclair',\n 'DStuart',\n 'DTanner',\n 'DUG1138',\n 'DaBeerMan',\n 'DaDibbel',\n 'DaGoodBoy',\n 'Dadelus',\n 'DaemonR',\n 'DaemonXI',\n 'Daemonax',\n 'Daewwoo',\n 'DaffyDuck',\n 'Dafuzz',\n 'Daggerfall',\n 'Dagon',\n 'Dagur',\n 'Daimoneze',\n 'Dakart',\n 'Daleeburg',\n 'Daleo',\n 'Dallas442',\n 'DamienWind',\n 'Damietta',\n 'DamnJester',\n 'Damn_Straight',\n 'Damorith',\n 'DanCorb',\n 'DanFletcher',\n 'DanHalen',\n 'Dan_Farina',\n 'Danegerous',\n 'DangerLane',\n 'Daniel_SJ',\n 'DannoHung',\n 'DannyInternets',\n 'Dante2005',\n 'Daph',\n 'Dark-Star',\n 'DarkBlueAnt',\n 'DarkGoosey',\n 'DarkQuest',\n 'DarkShikari',\n 'DarkSideofOZ',\n 'DarkXanthos',\n 'Dark_Crystal',\n 'Darkmeerkat',\n 'Darkmere',\n 'Darksaw',\n 'Darkshadow46236',\n 'Darkstar68',\n 'DarkyHelmety',\n 'DarthMalcontent',\n 'DashingLeech',\n 'Dasmitch',\n 'DataGeneral',\n 'Daugaard',\n 'Dauntless',\n 'Dav3xor',\n 'Dave222222',\n 'DaveChild',\n 'DaveDragon',\n 'DaveM191',\n 'DaveNiks',\n 'DavePhun',\n 'DaveyC',\n 'DavidHausen',\n 'DavidM01',\n 'DavidMcLaughlin',\n 'DavidSJ',\n 'DavidTehGnome',\n 'David_H',\n 'Davisourus',\n 'Davo69',\n 'Dax420',\n 'DaydreamNation',\n 'Deacon',\n 'Deadpixel1221',\n 'DearBurt',\n 'Dearon',\n 'DeathWish808',\n 'DebtOn',\n 'DecodedFromSpace',\n 'DedHeD',\n 'DeePsix',\n 'DeepThinkin',\n 'Deeprblue',\n 'Deestan',\n 'Deewiant',\n 'Defektiv',\n 'Deficit5',\n 'Dehavant',\n 'Deimorz',\n 'Deiz',\n 'Dekken_',\n 'Delmarc',\n 'Delslayer',\n 'DeltaEchoMike',\n 'Demiurge11',\n 'Democrat08',\n 'DemonWasp',\n 'Demonmonger',\n 'Demostheneez',\n 'Demosthenes_',\n 'Denihilist',\n 'DeniseSeith',\n 'Depafro',\n 'Derosa6037',\n 'Derringer2k8',\n 'DesCo83',\n 'DesertDude',\n 'Designthing',\n 'Destoney',\n 'DestructiveDreaming',\n 'Detente',\n 'Detry',\n 'Devaney1984',\n 'Devilish',\n 'Devious_Intent',\n 'Devz0r',\n 'Dexia',\n 'Dexter77',\n 'Dialga',\n 'DiamondBack',\n 'DiamondGFX',\n 'DiarrheaMonkey',\n 'DiatomaceousEarth',\n 'DidNotLaugh',\n 'Diet_of_Worms',\n 'Differentiate',\n 'DiggDropout',\n 'DiggaPlease',\n 'Digger123',\n 'DigitalHubris',\n 'Dildozer',\n 'Dillenger69',\n 'DingleberrySurprise',\n 'DinoRider',\n 'Diphrent',\n 'DirktheJerk',\n 'DirtyBinLV',\n 'DirtyHerring',\n 'DirtySouth',\n ...]"
     },
     "execution_count": 16,
     "metadata": {},
     "output_type": "execute_result"
    }
   ],
   "source": [
    "target_authors_list"
   ],
   "metadata": {
    "collapsed": false
   }
  },
  {
   "cell_type": "code",
   "execution_count": 17,
   "outputs": [],
   "source": [
    "final_df = remove_deleted_users_df[remove_deleted_users_df['author'].isin(target_authors_list)]"
   ],
   "metadata": {
    "collapsed": false
   }
  },
  {
   "cell_type": "code",
   "execution_count": 18,
   "outputs": [
    {
     "data": {
      "text/plain": "         created_utc   subreddit  \\\n0         1230768002  reddit.com   \n2         1230768007        pics   \n4         1230768012        pics   \n7         1230768026  reddit.com   \n8         1230768026  technology   \n...              ...         ...   \n1051641   1233446394         WTF   \n1051644   1233446396   worldnews   \n1051646   1233446397   Marijuana   \n1051647   1233446398   worldnews   \n1051648   1233446398  technology   \n\n                                                      body            author  \\\n0        Awww...I was hoping this post was about the li...            Envark   \n2            **Nigger + Obama. Jailbait + bestof** etc etc     KiddieFiddler   \n4        You should join the barefoot running community...      bluesecurity   \n7        Be sure to get back to us when you have decide...          what3v3r   \n8        Cool, they got flac though? That is kinda the ...       Fantasysage   \n...                                                    ...               ...   \n1051641  I'm hoping at some point soon the state will t...     DrunkenWizard   \n1051644  Shit if celebrities were shown as they really ...            Az1521   \n1051646  That's certainly another inroad to ending proh...          MrDanger   \n1051647  Naturally and a moot point. Cattle doesn't roa...  JewishPropaganda   \n1051648  So does that mean you can build Firefox with a...            revo86   \n\n               name             timestamp_col  \n0           t1_7va2 2009-01-01 00:00:02+00:00  \n2           t1_7va4 2009-01-01 00:00:07+00:00  \n4           t1_7va6 2009-01-01 00:00:12+00:00  \n7           t1_7va9 2009-01-01 00:00:26+00:00  \n8           t1_7vaa 2009-01-01 00:00:26+00:00  \n...             ...                       ...  \n1051641  t1_c07e6jk 2009-01-31 23:59:54+00:00  \n1051644  t1_c07e6jn 2009-01-31 23:59:56+00:00  \n1051646  t1_c07e6jp 2009-01-31 23:59:57+00:00  \n1051647  t1_c07e6jq 2009-01-31 23:59:58+00:00  \n1051648  t1_c07e6jr 2009-01-31 23:59:58+00:00  \n\n[654805 rows x 6 columns]",
      "text/html": "<div>\n<style scoped>\n    .dataframe tbody tr th:only-of-type {\n        vertical-align: middle;\n    }\n\n    .dataframe tbody tr th {\n        vertical-align: top;\n    }\n\n    .dataframe thead th {\n        text-align: right;\n    }\n</style>\n<table border=\"1\" class=\"dataframe\">\n  <thead>\n    <tr style=\"text-align: right;\">\n      <th></th>\n      <th>created_utc</th>\n      <th>subreddit</th>\n      <th>body</th>\n      <th>author</th>\n      <th>name</th>\n      <th>timestamp_col</th>\n    </tr>\n  </thead>\n  <tbody>\n    <tr>\n      <th>0</th>\n      <td>1230768002</td>\n      <td>reddit.com</td>\n      <td>Awww...I was hoping this post was about the li...</td>\n      <td>Envark</td>\n      <td>t1_7va2</td>\n      <td>2009-01-01 00:00:02+00:00</td>\n    </tr>\n    <tr>\n      <th>2</th>\n      <td>1230768007</td>\n      <td>pics</td>\n      <td>**Nigger + Obama. Jailbait + bestof** etc etc</td>\n      <td>KiddieFiddler</td>\n      <td>t1_7va4</td>\n      <td>2009-01-01 00:00:07+00:00</td>\n    </tr>\n    <tr>\n      <th>4</th>\n      <td>1230768012</td>\n      <td>pics</td>\n      <td>You should join the barefoot running community...</td>\n      <td>bluesecurity</td>\n      <td>t1_7va6</td>\n      <td>2009-01-01 00:00:12+00:00</td>\n    </tr>\n    <tr>\n      <th>7</th>\n      <td>1230768026</td>\n      <td>reddit.com</td>\n      <td>Be sure to get back to us when you have decide...</td>\n      <td>what3v3r</td>\n      <td>t1_7va9</td>\n      <td>2009-01-01 00:00:26+00:00</td>\n    </tr>\n    <tr>\n      <th>8</th>\n      <td>1230768026</td>\n      <td>technology</td>\n      <td>Cool, they got flac though? That is kinda the ...</td>\n      <td>Fantasysage</td>\n      <td>t1_7vaa</td>\n      <td>2009-01-01 00:00:26+00:00</td>\n    </tr>\n    <tr>\n      <th>...</th>\n      <td>...</td>\n      <td>...</td>\n      <td>...</td>\n      <td>...</td>\n      <td>...</td>\n      <td>...</td>\n    </tr>\n    <tr>\n      <th>1051641</th>\n      <td>1233446394</td>\n      <td>WTF</td>\n      <td>I'm hoping at some point soon the state will t...</td>\n      <td>DrunkenWizard</td>\n      <td>t1_c07e6jk</td>\n      <td>2009-01-31 23:59:54+00:00</td>\n    </tr>\n    <tr>\n      <th>1051644</th>\n      <td>1233446396</td>\n      <td>worldnews</td>\n      <td>Shit if celebrities were shown as they really ...</td>\n      <td>Az1521</td>\n      <td>t1_c07e6jn</td>\n      <td>2009-01-31 23:59:56+00:00</td>\n    </tr>\n    <tr>\n      <th>1051646</th>\n      <td>1233446397</td>\n      <td>Marijuana</td>\n      <td>That's certainly another inroad to ending proh...</td>\n      <td>MrDanger</td>\n      <td>t1_c07e6jp</td>\n      <td>2009-01-31 23:59:57+00:00</td>\n    </tr>\n    <tr>\n      <th>1051647</th>\n      <td>1233446398</td>\n      <td>worldnews</td>\n      <td>Naturally and a moot point. Cattle doesn't roa...</td>\n      <td>JewishPropaganda</td>\n      <td>t1_c07e6jq</td>\n      <td>2009-01-31 23:59:58+00:00</td>\n    </tr>\n    <tr>\n      <th>1051648</th>\n      <td>1233446398</td>\n      <td>technology</td>\n      <td>So does that mean you can build Firefox with a...</td>\n      <td>revo86</td>\n      <td>t1_c07e6jr</td>\n      <td>2009-01-31 23:59:58+00:00</td>\n    </tr>\n  </tbody>\n</table>\n<p>654805 rows × 6 columns</p>\n</div>"
     },
     "execution_count": 18,
     "metadata": {},
     "output_type": "execute_result"
    }
   ],
   "source": [
    "final_df"
   ],
   "metadata": {
    "collapsed": false
   }
  },
  {
   "cell_type": "code",
   "execution_count": 19,
   "outputs": [
    {
     "data": {
      "text/plain": "16058"
     },
     "execution_count": 19,
     "metadata": {},
     "output_type": "execute_result"
    }
   ],
   "source": [
    "final_df['author'].nunique()"
   ],
   "metadata": {
    "collapsed": false
   }
  },
  {
   "cell_type": "code",
   "execution_count": null,
   "outputs": [],
   "source": [
    "final_df = final_df.dropna()"
   ],
   "metadata": {
    "collapsed": false
   }
  },
  {
   "cell_type": "code",
   "execution_count": 20,
   "outputs": [],
   "source": [
    "final_df.to_csv('target_data.csv', index=False)"
   ],
   "metadata": {
    "collapsed": false
   }
  },
  {
   "cell_type": "code",
   "execution_count": null,
   "outputs": [],
   "source": [],
   "metadata": {
    "collapsed": false
   }
  }
 ],
 "metadata": {
  "kernelspec": {
   "display_name": "Python 3",
   "language": "python",
   "name": "python3"
  },
  "language_info": {
   "codemirror_mode": {
    "name": "ipython",
    "version": 2
   },
   "file_extension": ".py",
   "mimetype": "text/x-python",
   "name": "python",
   "nbconvert_exporter": "python",
   "pygments_lexer": "ipython2",
   "version": "2.7.6"
  }
 },
 "nbformat": 4,
 "nbformat_minor": 0
}
