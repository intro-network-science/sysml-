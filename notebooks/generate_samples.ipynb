{
 "cells": [
  {
   "cell_type": "code",
   "execution_count": 1,
   "metadata": {
    "collapsed": true
   },
   "outputs": [],
   "source": [
    "import pandas as pd\n",
    "from sklearn.model_selection import train_test_split\n"
   ]
  },
  {
   "cell_type": "code",
   "execution_count": 2,
   "outputs": [],
   "source": [
    "df = pd.read_csv('../2009-01/dropna_data.csv', lineterminator='\\n')"
   ],
   "metadata": {
    "collapsed": false
   }
  },
  {
   "cell_type": "code",
   "execution_count": 3,
   "outputs": [],
   "source": [
    "train_df, test_df = train_test_split(df, test_size=0.5, random_state=42)"
   ],
   "metadata": {
    "collapsed": false
   }
  },
  {
   "cell_type": "code",
   "execution_count": 4,
   "outputs": [
    {
     "name": "stdout",
     "output_type": "stream",
     "text": [
      "Training set shape: (327374, 6)\n",
      "Testing set shape: (327374, 6)\n"
     ]
    }
   ],
   "source": [
    "print(\"Training set shape:\", train_df.shape)\n",
    "print(\"Testing set shape:\", test_df.shape)"
   ],
   "metadata": {
    "collapsed": false
   }
  },
  {
   "cell_type": "code",
   "execution_count": 5,
   "outputs": [
    {
     "data": {
      "text/plain": "        created_utc    subreddit  \\\n550292   1233016385   MapleLinks   \n249267   1231820557  programming   \n535504   1232960129   reddit.com   \n206741   1231654499   reddit.com   \n355972   1232220442       gaming   \n...             ...          ...   \n644167   1233390860        scifi   \n259178   1231867830  programming   \n365838   1232260529          WTF   \n131932   1231365464      gadgets   \n121958   1231337170   reddit.com   \n\n                                                     body          author  \\\n550292                         Lookin good, pretty tight.          avavra   \n249267  Get rid of \"return\"? You must be kidding. It k...           Crona   \n535504  Christianity, islam, and many other religions ...          jjdmol   \n206741  It's things like this that make it hard to cas...  rebelcommander   \n355972  Earth Defense Force opened my eyes to a virtua...     evilpoptart   \n...                                                   ...             ...   \n644167  Exactly. This is a power play for Zarek. He is...    AliasHandler   \n259178  Probably poorly, since he needs over 9000 hour...      Preston4tw   \n365838             Did you guys see that bank robber one?           zzbzq   \n131932  Agreed, would totally pay $100 for it. I have ...        janpjens   \n121958  Digg is officially ruined now, all the pro jew...   trackerbishop   \n\n              name              timestamp_col  \n550292  t1_c07aiud  2009-01-27 00:33:05+00:00  \n249267  t1_c0703i0  2009-01-13 04:22:37+00:00  \n535504  t1_c07a0gr  2009-01-26 08:55:29+00:00  \n206741  t1_c06yo0t  2009-01-11 06:14:59+00:00  \n355972  t1_c073q7y  2009-01-17 19:27:22+00:00  \n...            ...                        ...  \n644167  t1_c07dta0  2009-01-31 08:34:20+00:00  \n259178  t1_c070fj8  2009-01-13 17:30:30+00:00  \n365838  t1_c0742o3  2009-01-18 06:35:29+00:00  \n131932  t1_c06w3g8  2009-01-07 21:57:44+00:00  \n121958     t1_c33l  2009-01-07 14:06:10+00:00  \n\n[327374 rows x 6 columns]",
      "text/html": "<div>\n<style scoped>\n    .dataframe tbody tr th:only-of-type {\n        vertical-align: middle;\n    }\n\n    .dataframe tbody tr th {\n        vertical-align: top;\n    }\n\n    .dataframe thead th {\n        text-align: right;\n    }\n</style>\n<table border=\"1\" class=\"dataframe\">\n  <thead>\n    <tr style=\"text-align: right;\">\n      <th></th>\n      <th>created_utc</th>\n      <th>subreddit</th>\n      <th>body</th>\n      <th>author</th>\n      <th>name</th>\n      <th>timestamp_col</th>\n    </tr>\n  </thead>\n  <tbody>\n    <tr>\n      <th>550292</th>\n      <td>1233016385</td>\n      <td>MapleLinks</td>\n      <td>Lookin good, pretty tight.</td>\n      <td>avavra</td>\n      <td>t1_c07aiud</td>\n      <td>2009-01-27 00:33:05+00:00</td>\n    </tr>\n    <tr>\n      <th>249267</th>\n      <td>1231820557</td>\n      <td>programming</td>\n      <td>Get rid of \"return\"? You must be kidding. It k...</td>\n      <td>Crona</td>\n      <td>t1_c0703i0</td>\n      <td>2009-01-13 04:22:37+00:00</td>\n    </tr>\n    <tr>\n      <th>535504</th>\n      <td>1232960129</td>\n      <td>reddit.com</td>\n      <td>Christianity, islam, and many other religions ...</td>\n      <td>jjdmol</td>\n      <td>t1_c07a0gr</td>\n      <td>2009-01-26 08:55:29+00:00</td>\n    </tr>\n    <tr>\n      <th>206741</th>\n      <td>1231654499</td>\n      <td>reddit.com</td>\n      <td>It's things like this that make it hard to cas...</td>\n      <td>rebelcommander</td>\n      <td>t1_c06yo0t</td>\n      <td>2009-01-11 06:14:59+00:00</td>\n    </tr>\n    <tr>\n      <th>355972</th>\n      <td>1232220442</td>\n      <td>gaming</td>\n      <td>Earth Defense Force opened my eyes to a virtua...</td>\n      <td>evilpoptart</td>\n      <td>t1_c073q7y</td>\n      <td>2009-01-17 19:27:22+00:00</td>\n    </tr>\n    <tr>\n      <th>...</th>\n      <td>...</td>\n      <td>...</td>\n      <td>...</td>\n      <td>...</td>\n      <td>...</td>\n      <td>...</td>\n    </tr>\n    <tr>\n      <th>644167</th>\n      <td>1233390860</td>\n      <td>scifi</td>\n      <td>Exactly. This is a power play for Zarek. He is...</td>\n      <td>AliasHandler</td>\n      <td>t1_c07dta0</td>\n      <td>2009-01-31 08:34:20+00:00</td>\n    </tr>\n    <tr>\n      <th>259178</th>\n      <td>1231867830</td>\n      <td>programming</td>\n      <td>Probably poorly, since he needs over 9000 hour...</td>\n      <td>Preston4tw</td>\n      <td>t1_c070fj8</td>\n      <td>2009-01-13 17:30:30+00:00</td>\n    </tr>\n    <tr>\n      <th>365838</th>\n      <td>1232260529</td>\n      <td>WTF</td>\n      <td>Did you guys see that bank robber one?</td>\n      <td>zzbzq</td>\n      <td>t1_c0742o3</td>\n      <td>2009-01-18 06:35:29+00:00</td>\n    </tr>\n    <tr>\n      <th>131932</th>\n      <td>1231365464</td>\n      <td>gadgets</td>\n      <td>Agreed, would totally pay $100 for it. I have ...</td>\n      <td>janpjens</td>\n      <td>t1_c06w3g8</td>\n      <td>2009-01-07 21:57:44+00:00</td>\n    </tr>\n    <tr>\n      <th>121958</th>\n      <td>1231337170</td>\n      <td>reddit.com</td>\n      <td>Digg is officially ruined now, all the pro jew...</td>\n      <td>trackerbishop</td>\n      <td>t1_c33l</td>\n      <td>2009-01-07 14:06:10+00:00</td>\n    </tr>\n  </tbody>\n</table>\n<p>327374 rows × 6 columns</p>\n</div>"
     },
     "execution_count": 5,
     "metadata": {},
     "output_type": "execute_result"
    }
   ],
   "source": [
    "train_df"
   ],
   "metadata": {
    "collapsed": false
   }
  },
  {
   "cell_type": "code",
   "execution_count": 6,
   "outputs": [],
   "source": [
    "train_df.to_csv('train.csv', index=False)"
   ],
   "metadata": {
    "collapsed": false
   }
  },
  {
   "cell_type": "code",
   "execution_count": 7,
   "outputs": [],
   "source": [
    "test_df.to_csv('test.csv', index=False)"
   ],
   "metadata": {
    "collapsed": false
   }
  },
  {
   "cell_type": "code",
   "execution_count": null,
   "outputs": [],
   "source": [],
   "metadata": {
    "collapsed": false
   }
  }
 ],
 "metadata": {
  "kernelspec": {
   "display_name": "Python 3",
   "language": "python",
   "name": "python3"
  },
  "language_info": {
   "codemirror_mode": {
    "name": "ipython",
    "version": 2
   },
   "file_extension": ".py",
   "mimetype": "text/x-python",
   "name": "python",
   "nbconvert_exporter": "python",
   "pygments_lexer": "ipython2",
   "version": "2.7.6"
  }
 },
 "nbformat": 4,
 "nbformat_minor": 0
}
